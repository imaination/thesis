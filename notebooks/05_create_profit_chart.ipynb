{
 "cells": [
  {
   "cell_type": "code",
   "execution_count": null,
   "metadata": {},
   "outputs": [],
   "source": [
    "#Last edited/used: 5/11/2023"
   ]
  },
  {
   "cell_type": "code",
   "execution_count": 64,
   "metadata": {},
   "outputs": [],
   "source": [
    "import pandas as pd\n",
    "import pandas_ta as ta\n",
    "import os\n",
    "import plotly.graph_objects as go\n",
    "import pickle\n",
    "import datetime"
   ]
  },
  {
   "cell_type": "code",
   "execution_count": null,
   "metadata": {},
   "outputs": [],
   "source": [
    "# Set horizon\n",
    "horizon = 'SCALP'\n",
    "# horizon = 'SWING'\n",
    "# horizon = 'POSITION'"
   ]
  },
  {
   "cell_type": "code",
   "execution_count": 65,
   "metadata": {},
   "outputs": [],
   "source": [
    "PATH = os.path.dirname(os.getcwd())\n",
    "data_path = os.path.join(PATH, 'data')\n",
    "\n",
    "#SCALP\n",
    "# W30_H2_DF30_V67_SCALP_04_12_2023_PROFIT_MAP.pkl\n",
    "#SWING\n",
    "# W30_H4_DF1W_V00_SWING_04_10_2023_PROFIT_MAP.pkl\n",
    "#POSITION \n",
    "# W30_H4_DF1W_V00_POSITION_04_10_2023_PROFIT_MAP.pkl\n",
    "\n",
    "\n",
    "if horizon == 'SCALP':\n",
    "    file_name = 'W30_H2_DF30_V67_SCALP_04_12_2023_PROFIT_MAP.pkl'\n",
    "elif horizon == 'SWING':\n",
    "    file_name = 'W30_H4_DF1W_V00_SWING_04_10_2023_PROFIT_MAP.pkl'\n",
    "elif horizon == 'POSITION':\n",
    "    file_name = 'W30_H4_DF1W_V00_POSITION_04_10_2023_PROFIT_MAP.pkl'\n",
    "\n",
    "\n",
    "file_path = os.path.join(data_path, file_name)\n",
    "# Open and Read file\n",
    "with open(os.path.join(data_path, file_name), 'rb') as f:\n",
    "    loaded_dict = pickle.load(f)"
   ]
  },
  {
   "cell_type": "code",
   "execution_count": 69,
   "metadata": {},
   "outputs": [],
   "source": [
    "long = pd.DataFrame(loaded_dict[\"LONG\"])\n",
    "short = pd.DataFrame(loaded_dict[\"SHORT\"])\n",
    "frames = [long, short]"
   ]
  },
  {
   "cell_type": "code",
   "execution_count": 70,
   "metadata": {},
   "outputs": [],
   "source": [
    "profit_chart = pd.concat(frames, axis=0, ignore_index=True)\n",
    "profit_chart = profit_chart.sort_values(by=['PredictionDate']).reset_index(drop=True)"
   ]
  },
  {
   "cell_type": "code",
   "execution_count": 71,
   "metadata": {},
   "outputs": [
    {
     "data": {
      "text/html": [
       "<div>\n",
       "<style scoped>\n",
       "    .dataframe tbody tr th:only-of-type {\n",
       "        vertical-align: middle;\n",
       "    }\n",
       "\n",
       "    .dataframe tbody tr th {\n",
       "        vertical-align: top;\n",
       "    }\n",
       "\n",
       "    .dataframe thead th {\n",
       "        text-align: right;\n",
       "    }\n",
       "</style>\n",
       "<table border=\"1\" class=\"dataframe\">\n",
       "  <thead>\n",
       "    <tr style=\"text-align: right;\">\n",
       "      <th></th>\n",
       "      <th>PredictionDate</th>\n",
       "      <th>CurrentValue</th>\n",
       "      <th>FutureValue</th>\n",
       "      <th>TrueLabel</th>\n",
       "      <th>Profit</th>\n",
       "    </tr>\n",
       "  </thead>\n",
       "  <tbody>\n",
       "    <tr>\n",
       "      <th>0</th>\n",
       "      <td>2017-02-22 22:00:00</td>\n",
       "      <td>113.06</td>\n",
       "      <td>113.06</td>\n",
       "      <td>1</td>\n",
       "      <td>0.00</td>\n",
       "    </tr>\n",
       "    <tr>\n",
       "      <th>1</th>\n",
       "      <td>2017-02-22 22:30:00</td>\n",
       "      <td>113.19</td>\n",
       "      <td>113.19</td>\n",
       "      <td>1</td>\n",
       "      <td>0.00</td>\n",
       "    </tr>\n",
       "    <tr>\n",
       "      <th>2</th>\n",
       "      <td>2017-02-22 23:00:00</td>\n",
       "      <td>113.06</td>\n",
       "      <td>113.29</td>\n",
       "      <td>0</td>\n",
       "      <td>0.23</td>\n",
       "    </tr>\n",
       "    <tr>\n",
       "      <th>3</th>\n",
       "      <td>2017-02-22 23:30:00</td>\n",
       "      <td>113.19</td>\n",
       "      <td>113.34</td>\n",
       "      <td>0</td>\n",
       "      <td>0.15</td>\n",
       "    </tr>\n",
       "    <tr>\n",
       "      <th>4</th>\n",
       "      <td>2017-02-23 00:00:00</td>\n",
       "      <td>113.29</td>\n",
       "      <td>113.29</td>\n",
       "      <td>1</td>\n",
       "      <td>0.00</td>\n",
       "    </tr>\n",
       "  </tbody>\n",
       "</table>\n",
       "</div>"
      ],
      "text/plain": [
       "        PredictionDate  CurrentValue  FutureValue  TrueLabel  Profit\n",
       "0  2017-02-22 22:00:00        113.06       113.06          1    0.00\n",
       "1  2017-02-22 22:30:00        113.19       113.19          1    0.00\n",
       "2  2017-02-22 23:00:00        113.06       113.29          0    0.23\n",
       "3  2017-02-22 23:30:00        113.19       113.34          0    0.15\n",
       "4  2017-02-23 00:00:00        113.29       113.29          1    0.00"
      ]
     },
     "execution_count": 71,
     "metadata": {},
     "output_type": "execute_result"
    }
   ],
   "source": [
    "profit_chart.head()"
   ]
  },
  {
   "cell_type": "code",
   "execution_count": 72,
   "metadata": {},
   "outputs": [
    {
     "data": {
      "text/plain": [
       "65242"
      ]
     },
     "execution_count": 72,
     "metadata": {},
     "output_type": "execute_result"
    }
   ],
   "source": [
    "len(profit_chart)"
   ]
  },
  {
   "cell_type": "code",
   "execution_count": 73,
   "metadata": {},
   "outputs": [],
   "source": [
    "profit_chart.to_csv('../data/{}_profit_chart.csv'.format(horizon))"
   ]
  },
  {
   "cell_type": "code",
   "execution_count": null,
   "metadata": {},
   "outputs": [],
   "source": []
  }
 ],
 "metadata": {
  "colab": {
   "collapsed_sections": [],
   "provenance": []
  },
  "kernelspec": {
   "display_name": "Python 3 (ipykernel)",
   "language": "python",
   "name": "python3"
  },
  "language_info": {
   "codemirror_mode": {
    "name": "ipython",
    "version": 3
   },
   "file_extension": ".py",
   "mimetype": "text/x-python",
   "name": "python",
   "nbconvert_exporter": "python",
   "pygments_lexer": "ipython3",
   "version": "3.9.16"
  },
  "toc": {
   "base_numbering": 1,
   "nav_menu": {},
   "number_sections": true,
   "sideBar": true,
   "skip_h1_title": false,
   "title_cell": "Table of Contents",
   "title_sidebar": "Contents",
   "toc_cell": false,
   "toc_position": {},
   "toc_section_display": true,
   "toc_window_display": false
  },
  "varInspector": {
   "cols": {
    "lenName": 16,
    "lenType": 16,
    "lenVar": 40
   },
   "kernels_config": {
    "python": {
     "delete_cmd_postfix": "",
     "delete_cmd_prefix": "del ",
     "library": "var_list.py",
     "varRefreshCmd": "print(var_dic_list())"
    },
    "r": {
     "delete_cmd_postfix": ") ",
     "delete_cmd_prefix": "rm(",
     "library": "var_list.r",
     "varRefreshCmd": "cat(var_dic_list()) "
    }
   },
   "types_to_exclude": [
    "module",
    "function",
    "builtin_function_or_method",
    "instance",
    "_Feature"
   ],
   "window_display": false
  }
 },
 "nbformat": 4,
 "nbformat_minor": 1
}
